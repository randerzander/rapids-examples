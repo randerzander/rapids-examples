{
 "cells": [
  {
   "cell_type": "code",
   "execution_count": 2,
   "metadata": {},
   "outputs": [
    {
     "data": {
      "text/html": [
       "<table style=\"border: 2px solid white;\">\n",
       "<tr>\n",
       "<td style=\"vertical-align: top; border: 0px solid white\">\n",
       "<h3>Client</h3>\n",
       "<ul>\n",
       "  <li><b>Scheduler: </b>tcp://127.0.0.1:45151\n",
       "</ul>\n",
       "</td>\n",
       "<td style=\"vertical-align: top; border: 0px solid white\">\n",
       "<h3>Cluster</h3>\n",
       "<ul>\n",
       "  <li><b>Workers: </b>2</li>\n",
       "  <li><b>Cores: </b>2</li>\n",
       "  <li><b>Memory: </b>33.39 GB</li>\n",
       "</ul>\n",
       "</td>\n",
       "</tr>\n",
       "</table>"
      ],
      "text/plain": [
       "<Client: scheduler='tcp://127.0.0.1:45151' processes=2 cores=2>"
      ]
     },
     "execution_count": 2,
     "metadata": {},
     "output_type": "execute_result"
    }
   ],
   "source": [
    "from dask.distributed import Client, wait\n",
    "from dask_cuda import LocalCUDACluster\n",
    "\n",
    "cluster = LocalCUDACluster()\n",
    "client = Client(cluster)\n",
    "client"
   ]
  },
  {
   "cell_type": "code",
   "execution_count": null,
   "metadata": {},
   "outputs": [],
   "source": [
    "import os\n",
    "import urllib.request\n",
    "\n",
    "station_meta_url = 'ftp://ftp.ncdc.noaa.gov/pub/data/noaa/isd-history.csv'\n",
    "base_url = 'ftp://ftp.ncdc.noaa.gov/pub/data/ghcn/daily/by_year/'\n",
    "\n",
    "if not os.path.isfile('/data/weather/isd-history.csv'):\n",
    "    urllib.request.urlretrieve(station_meta_url, '/data/weather/isd-history.csv')\n",
    "\n",
    "years = list(range(2000, 2018))\n",
    "for year in years:\n",
    "    fn = str(year) + '.csv.gz'\n",
    "    if not os.path.isfile('/data/weather/'+fn):\n",
    "        urllib.request.urlretrieve(base_url+fn, '/data/weather/'+fn)"
   ]
  },
  {
   "cell_type": "code",
   "execution_count": 37,
   "metadata": {},
   "outputs": [],
   "source": [
    "import dask_cudf\n",
    "\n",
    "names = [\"id\", \"date\", \"type\", \"val\", \"time\", \"dummy1\", \"dummy2\", \"dummy3\"]\n",
    "dtype = [\"int\" for name in names]\n",
    "usecols = names[0:4]\n",
    "\n",
    "decade = '2000'\n",
    "files = '/data/weather/'+decade+'/*.csv.gz'\n",
    "df = dask_cudf.read_csv(files, names=names, dtype=dtype, usecols=usecols)"
   ]
  },
  {
   "cell_type": "code",
   "execution_count": 38,
   "metadata": {},
   "outputs": [
    {
     "data": {
      "text/html": [
       "<div>\n",
       "<style scoped>\n",
       "    .dataframe tbody tr th:only-of-type {\n",
       "        vertical-align: middle;\n",
       "    }\n",
       "\n",
       "    .dataframe tbody tr th {\n",
       "        vertical-align: top;\n",
       "    }\n",
       "\n",
       "    .dataframe thead th {\n",
       "        text-align: right;\n",
       "    }\n",
       "</style>\n",
       "<table border=\"1\" class=\"dataframe\">\n",
       "  <thead>\n",
       "    <tr style=\"text-align: right;\">\n",
       "      <th></th>\n",
       "      <th>id</th>\n",
       "      <th>date</th>\n",
       "      <th>type</th>\n",
       "      <th>val</th>\n",
       "    </tr>\n",
       "  </thead>\n",
       "  <tbody>\n",
       "    <tr>\n",
       "      <th>0</th>\n",
       "      <td>2147483647</td>\n",
       "      <td>20000101</td>\n",
       "      <td>39110</td>\n",
       "      <td>350</td>\n",
       "    </tr>\n",
       "    <tr>\n",
       "      <th>1</th>\n",
       "      <td>2147483647</td>\n",
       "      <td>20000101</td>\n",
       "      <td>35622</td>\n",
       "      <td>0</td>\n",
       "    </tr>\n",
       "    <tr>\n",
       "      <th>2</th>\n",
       "      <td>2147483647</td>\n",
       "      <td>20000101</td>\n",
       "      <td>39110</td>\n",
       "      <td>141</td>\n",
       "    </tr>\n",
       "    <tr>\n",
       "      <th>3</th>\n",
       "      <td>2147483647</td>\n",
       "      <td>20000101</td>\n",
       "      <td>39180</td>\n",
       "      <td>79</td>\n",
       "    </tr>\n",
       "    <tr>\n",
       "      <th>4</th>\n",
       "      <td>2147483647</td>\n",
       "      <td>20000101</td>\n",
       "      <td>35622</td>\n",
       "      <td>10</td>\n",
       "    </tr>\n",
       "  </tbody>\n",
       "</table>\n",
       "</div>"
      ],
      "text/plain": [
       "           id      date   type  val\n",
       "0  2147483647  20000101  39110  350\n",
       "1  2147483647  20000101  35622    0\n",
       "2  2147483647  20000101  39110  141\n",
       "3  2147483647  20000101  39180   79\n",
       "4  2147483647  20000101  35622   10"
      ]
     },
     "execution_count": 38,
     "metadata": {},
     "output_type": "execute_result"
    }
   ],
   "source": [
    "df.head().to_pandas()"
   ]
  },
  {
   "cell_type": "code",
   "execution_count": 41,
   "metadata": {},
   "outputs": [
    {
     "data": {
      "text/plain": [
       "343314695"
      ]
     },
     "execution_count": 41,
     "metadata": {},
     "output_type": "execute_result"
    }
   ],
   "source": [
    "len(df)"
   ]
  },
  {
   "cell_type": "code",
   "execution_count": 39,
   "metadata": {},
   "outputs": [
    {
     "name": "stdout",
     "output_type": "stream",
     "text": [
      "CPU times: user 1.34 s, sys: 229 ms, total: 1.57 s\n",
      "Wall time: 19.4 s\n"
     ]
    },
    {
     "data": {
      "text/plain": [
       "<cudf.DataFrame ncols=4 nrows=107 >"
      ]
     },
     "execution_count": 39,
     "metadata": {},
     "output_type": "execute_result"
    }
   ],
   "source": [
    "%time df.groupby(by=[\"type\"]).count().compute()"
   ]
  },
  {
   "cell_type": "code",
   "execution_count": 40,
   "metadata": {},
   "outputs": [
    {
     "name": "stdout",
     "output_type": "stream",
     "text": [
      "CPU times: user 1.34 s, sys: 182 ms, total: 1.52 s\n",
      "Wall time: 19.8 s\n"
     ]
    },
    {
     "data": {
      "text/plain": [
       "<cudf.DataFrame ncols=4 nrows=1 >"
      ]
     },
     "execution_count": 40,
     "metadata": {},
     "output_type": "execute_result"
    }
   ],
   "source": [
    "%time df.groupby(by=[\"id\"]).count().compute()"
   ]
  },
  {
   "cell_type": "code",
   "execution_count": 29,
   "metadata": {},
   "outputs": [
    {
     "name": "stdout",
     "output_type": "stream",
     "text": [
      "    type count_id count_date count_val\n",
      " 0 38023     1742   17306010    118896\n",
      " 1 39001    76802   14911416    224974\n",
      " 2 39021     2090      98565      2554\n",
      " 3 42610      437    5937475     45182\n",
      " 4 38031    24431     533338    237062\n",
      " 5 22090     6937     225084    176665\n",
      " 6 38011     3092      17190    476400\n",
      " 7 39002   451314     360711     81407\n",
      " 8 42601  1094908      82196     73377\n",
      " 9 32350   658770     239792      3457\n",
      "[88 more rows]\n"
     ]
    }
   ],
   "source": [
    "print(df.groupby(by=[\"id\"]).().compute())"
   ]
  },
  {
   "cell_type": "code",
   "execution_count": 7,
   "metadata": {},
   "outputs": [],
   "source": [
    "@delayed\n",
    "def load_file(fn, names, dtypes, skiprows):\n",
    "    return cudf.read_csv(fn, names=names, dtype=dtypes, skiprows=skiprows)\n",
    "\n",
    "years = [2017, 2018]\n",
    "files = ['/data/weather/'+str(year)+'.csv' for year in years]\n",
    "\n",
    "# csv columns\n",
    "names = [\"id\", \"date\", \"type\", \"val\", \"time\", \"dummy1\", \"dummy2\", \"dummy3\"]\n",
    "dtypes = [\"int\" for name in names]\n",
    "# use workers to read files\n",
    "weather_df = dask_cudf.from_delayed([load_file(fn, names, dtypes, 1) for fn in files])"
   ]
  },
  {
   "cell_type": "code",
   "execution_count": 10,
   "metadata": {},
   "outputs": [
    {
     "name": "stdout",
     "output_type": "stream",
     "text": [
      "          id     date  type  val time dummy1 dummy2 dummy3\n",
      "0 2147483647 20170101 38349    0                 30       \n",
      "1 2147483647 20170101 38410    0                 30       \n",
      "2 2147483647 20170101 35622    0                 30       \n",
      "3 2147483647 20170101 39110  274                 49       \n",
      "4 2147483647 20170101 39180  218                 49       \n"
     ]
    }
   ],
   "source": [
    "print(weather_df.head())"
   ]
  },
  {
   "cell_type": "code",
   "execution_count": 27,
   "metadata": {},
   "outputs": [],
   "source": [
    "names = [\"USAF\",\"WBAN\",\"STATION NAME\",\"CTRY\",\"STATE\",\"ICAO\",\"LAT\",\"LON\",\"ELEV(M)\",\"BEGIN\",\"END\"]\n",
    "dtypes = ['int' for col in names]\n",
    "df = cudf.read_csv('/data/weather/isd-history.csv', names=names, dtype=dtypes, skiprows=1)"
   ]
  },
  {
   "cell_type": "code",
   "execution_count": 26,
   "metadata": {},
   "outputs": [
    {
     "name": "stdout",
     "output_type": "stream",
     "text": [
      "      \n",
      "0    0\n",
      "1    0\n",
      "2    0\n",
      "3    0\n",
      "4    0\n"
     ]
    }
   ],
   "source": [
    "print(sample.val)"
   ]
  },
  {
   "cell_type": "code",
   "execution_count": 9,
   "metadata": {},
   "outputs": [],
   "source": [
    "files = ['test1.csv', 'test2.csv']\n",
    "lines = ['num0,num1', '0,1', '2,3']\n",
    "\n",
    "for file in files:\n",
    "    with open(file, 'w') as fp:\n",
    "        fp.write('\\n'.join(lines)+ '\\n')\n",
    "\n",
    "@delayed\n",
    "def load_file(fn, names, dtypes, skiprows):\n",
    "    return cudf.read_csv(fn, names=names, dtype=dtypes, skiprows=skiprows)\n",
    "\n",
    "# csv columns\n",
    "names = [\"num0\", \"num1\"]\n",
    "dtypes = [\"int\" for name in names]\n",
    "df = dask_cudf.from_delayed([load_file(fn, names, dtypes, 1) for fn in files])"
   ]
  },
  {
   "cell_type": "code",
   "execution_count": 9,
   "metadata": {},
   "outputs": [
    {
     "ename": "NameError",
     "evalue": "name 'df' is not defined",
     "output_type": "error",
     "traceback": [
      "\u001b[0;31m---------------------------------------------------------------------------\u001b[0m",
      "\u001b[0;31mNameError\u001b[0m                                 Traceback (most recent call last)",
      "\u001b[0;32m<ipython-input-9-873aa293d964>\u001b[0m in \u001b[0;36m<module>\u001b[0;34m\u001b[0m\n\u001b[0;32m----> 1\u001b[0;31m \u001b[0mprint\u001b[0m\u001b[0;34m(\u001b[0m\u001b[0mdf\u001b[0m\u001b[0;34m.\u001b[0m\u001b[0mhead\u001b[0m\u001b[0;34m(\u001b[0m\u001b[0;34m)\u001b[0m\u001b[0;34m)\u001b[0m\u001b[0;34m\u001b[0m\u001b[0m\n\u001b[0m",
      "\u001b[0;31mNameError\u001b[0m: name 'df' is not defined"
     ]
    }
   ],
   "source": [
    "print(df.head())"
   ]
  },
  {
   "cell_type": "code",
   "execution_count": null,
   "metadata": {},
   "outputs": [],
   "source": [
    "from cudf import DataFrame as DF, Series as S\n",
    "from numpy.random import randint\n",
    "x = DF({'x': S(randint(0, 2**63, size=5)).astype('datetime64[ms]')})\n",
    "DF.from_arrow(x.to_arrow())"
   ]
  },
  {
   "cell_type": "code",
   "execution_count": null,
   "metadata": {},
   "outputs": [],
   "source": []
  }
 ],
 "metadata": {
  "kernelspec": {
   "display_name": "Python 3",
   "language": "python",
   "name": "python3"
  },
  "language_info": {
   "codemirror_mode": {
    "name": "ipython",
    "version": 3
   },
   "file_extension": ".py",
   "mimetype": "text/x-python",
   "name": "python",
   "nbconvert_exporter": "python",
   "pygments_lexer": "ipython3",
   "version": "3.7.1"
  }
 },
 "nbformat": 4,
 "nbformat_minor": 2
}
