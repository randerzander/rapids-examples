{
 "cells": [
  {
   "cell_type": "code",
   "execution_count": 2,
   "metadata": {},
   "outputs": [],
   "source": [
    "import cudf\n",
    "\n",
    "# source: https://sraf.nd.edu/textual-analysis/resources/#Master%20Dictionary\n",
    "fn = '/data/dict/dict.csv'\n",
    "header = get_header(fn)\n",
    "\n",
    "names = header.split(',')\n",
    "numerics = ['Negative', 'Positive']\n",
    "dtypes = ['int' if name in numerics else 'str' for name in names]\n",
    "\n",
    "cols = cudf.io.csv.read_csv_strings(fn, names=names, dtype=dtypes, skiprows=1)"
   ]
  },
  {
   "cell_type": "code",
   "execution_count": 1,
   "metadata": {},
   "outputs": [],
   "source": [
    "def get_header(fn):\n",
    "    with open(fn) as f:\n",
    "        return f.readline()"
   ]
  },
  {
   "cell_type": "code",
   "execution_count": 3,
   "metadata": {},
   "outputs": [],
   "source": [
    "dict_df = cudf.read_csv(fn)"
   ]
  },
  {
   "cell_type": "code",
   "execution_count": 5,
   "metadata": {},
   "outputs": [
    {
     "name": "stdout",
     "output_type": "stream",
     "text": [
      "         Word Sequence Number Word Count         Word Proportion      Average Proportion                 Std Dev Doc Count ...    Source\n",
      "0 -1459489147               1        275 1969-12-31T23:59:59.000 1969-12-31T23:59:59.000 1969-12-31T23:59:59.000        82 ... 1447105418\n",
      "1  1507414917               2          3 1969-12-31T23:59:59.000 1969-12-31T23:59:59.000 1969-12-31T23:59:59.000         1 ... 1447105418\n",
      "2  -128529636               3          8 1969-12-31T23:59:59.000 1969-12-31T23:59:59.000 1969-12-31T23:59:59.000         7 ... 1447105418\n",
      "3  -831177214               4          6 1969-12-31T23:59:59.000 1969-12-31T23:59:59.000 1969-12-31T23:59:59.000         6 ... 1447105418\n",
      "4  1620707867               5       6729 1969-12-31T23:59:59.000 1969-12-31T23:59:59.000 1969-12-31T23:59:59.000       845 ... 1447105418\n",
      "[11 more columns]\n"
     ]
    }
   ],
   "source": [
    "print(dict_df.head())"
   ]
  },
  {
   "cell_type": "code",
   "execution_count": 8,
   "metadata": {},
   "outputs": [
    {
     "data": {
      "text/plain": [
       "[<nvstrings count=86551>,\n",
       " <nvstrings count=86551>,\n",
       " <nvstrings count=86551>,\n",
       " <nvstrings count=86551>,\n",
       " <nvstrings count=86551>,\n",
       " <nvstrings count=86551>,\n",
       " <nvstrings count=86551>,\n",
       " <cudf.Series nrows=86551 >,\n",
       " <cudf.Series nrows=86551 >,\n",
       " <nvstrings count=86551>,\n",
       " <nvstrings count=86551>,\n",
       " <nvstrings count=86551>,\n",
       " <nvstrings count=86551>,\n",
       " <nvstrings count=86551>,\n",
       " <nvstrings count=86551>,\n",
       " <nvstrings count=86551>,\n",
       " <nvstrings count=86551>,\n",
       " <nvstrings count=86551>,\n",
       " <nvstrings count=86551>]"
      ]
     },
     "execution_count": 8,
     "metadata": {},
     "output_type": "execute_result"
    }
   ],
   "source": [
    "cols"
   ]
  },
  {
   "cell_type": "code",
   "execution_count": 6,
   "metadata": {},
   "outputs": [
    {
     "name": "stdout",
     "output_type": "stream",
     "text": [
      "      \n",
      "0    0\n",
      "1    0\n",
      "2    0\n",
      "3    0\n",
      "4    0\n"
     ]
    }
   ],
   "source": [
    "print(cols[7].head())"
   ]
  },
  {
   "cell_type": "code",
   "execution_count": 7,
   "metadata": {},
   "outputs": [
    {
     "name": "stdout",
     "output_type": "stream",
     "text": [
      "      \n",
      "0    0\n",
      "1    0\n",
      "2    0\n",
      "3    0\n",
      "4    0\n"
     ]
    }
   ],
   "source": [
    "print(cols[8].head())"
   ]
  },
  {
   "cell_type": "code",
   "execution_count": 9,
   "metadata": {},
   "outputs": [],
   "source": [
    "# source: https://www.kaggle.com/ehallmar/beers-breweries-and-beer-reviews\n",
    "fn = '/data/beers/beers.csv'\n",
    "header = get_header(fn)\n",
    "names = header.split(',')\n",
    "dtype = ['str' for name in names]\n",
    "cols = cudf.io.csv.read_csv_strings(fn, names=names, dtype=dtype, skiprows=1)"
   ]
  },
  {
   "cell_type": "code",
   "execution_count": 12,
   "metadata": {},
   "outputs": [
    {
     "data": {
      "text/plain": [
       "['id',\n",
       " 'name',\n",
       " 'brewery_id',\n",
       " 'state',\n",
       " 'country',\n",
       " 'style',\n",
       " 'availability',\n",
       " 'abv',\n",
       " 'notes',\n",
       " 'retired\\n']"
      ]
     },
     "execution_count": 12,
     "metadata": {},
     "output_type": "execute_result"
    }
   ],
   "source": [
    "names"
   ]
  },
  {
   "cell_type": "code",
   "execution_count": 14,
   "metadata": {},
   "outputs": [
    {
     "name": "stdout",
     "output_type": "stream",
     "text": [
      "['English Oatmeal Stout', 'Russian Imperial Stout']\n"
     ]
    }
   ],
   "source": [
    "print(cols[5].sublist([0, 1]))"
   ]
  },
  {
   "cell_type": "code",
   "execution_count": 16,
   "metadata": {},
   "outputs": [],
   "source": [
    "fn = '/data/beers/reviews.csv'\n",
    "header = get_header(fn)\n",
    "names = header.split(',')\n",
    "dtype = ['str' for name in names]\n",
    "cols = cudf.io.csv.read_csv_strings(fn, names=names, dtype=dtype, skiprows=1)"
   ]
  },
  {
   "cell_type": "code",
   "execution_count": 18,
   "metadata": {},
   "outputs": [
    {
     "data": {
      "text/plain": [
       "['beer_id',\n",
       " 'username',\n",
       " 'date',\n",
       " 'text',\n",
       " 'look',\n",
       " 'smell',\n",
       " 'taste',\n",
       " 'feel',\n",
       " 'overall',\n",
       " 'score\\n']"
      ]
     },
     "execution_count": 18,
     "metadata": {},
     "output_type": "execute_result"
    }
   ],
   "source": [
    "names"
   ]
  },
  {
   "cell_type": "code",
   "execution_count": 20,
   "metadata": {},
   "outputs": [
    {
     "name": "stdout",
     "output_type": "stream",
     "text": [
      "['4.03', '4.5', '4.75', '4.58', '4.31']\n"
     ]
    }
   ],
   "source": [
    "print(cols[-1].sublist([0, 1, 2, 3, 4]))"
   ]
  },
  {
   "cell_type": "code",
   "execution_count": null,
   "metadata": {},
   "outputs": [],
   "source": []
  }
 ],
 "metadata": {
  "kernelspec": {
   "display_name": "Python 3",
   "language": "python",
   "name": "python3"
  },
  "language_info": {
   "codemirror_mode": {
    "name": "ipython",
    "version": 3
   },
   "file_extension": ".py",
   "mimetype": "text/x-python",
   "name": "python",
   "nbconvert_exporter": "python",
   "pygments_lexer": "ipython3",
   "version": "3.7.1"
  }
 },
 "nbformat": 4,
 "nbformat_minor": 2
}
